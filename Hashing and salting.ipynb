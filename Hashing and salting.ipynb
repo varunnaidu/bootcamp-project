{
 "cells": [
  {
   "cell_type": "code",
   "execution_count": 1,
   "metadata": {},
   "outputs": [
    {
     "name": "stdout",
     "output_type": "stream",
     "text": [
      "b'\\xd4\\xe3s\\x0e\\x8c\\xba!O\\x85\\xcd\\xda\\xe5\\xf93\\x1dt'\n"
     ]
    }
   ],
   "source": [
    "#md5 of hashlib\n",
    "import hashlib\n",
    "s='harsh'\n",
    "res=hashlib.md5(s.encode())\n",
    "print(res.digest())"
   ]
  },
  {
   "cell_type": "code",
   "execution_count": 2,
   "metadata": {},
   "outputs": [
    {
     "name": "stdout",
     "output_type": "stream",
     "text": [
      "b'\\xbd\\x87\\x8f\\xa2)=\\xe7.\\x9c\\x87\\x14c\\xe1\\xc2\\xef)d\\xac\\xb0\\xea(%@\\xc9\\xd2\\xf5/\\xe3,m\\x18\\xd1'\n",
      "b'y\\xe0\\x1e\\xba \\xab*a\\x9c\\xde*\\xc3\\xde\\xa6B\\x07\\x15\\xe0\\x9a:\\xf7\\xec\\x01\\x05f\\xa1R\\xf2k?Q\\x96'\n",
      "b'%\\xa9\\xfcCa\\xf0\\xde\\x99\\xd6oV\\x9f#\\xdc\\x01T\\xe7\\x06N5'\n"
     ]
    }
   ],
   "source": [
    "#Hashing using 3 algorithms from hashlib\n",
    "print(hashlib.sha256(s.encode()).digest())\n",
    "print(hashlib.blake2s(s.encode()).digest())\n",
    "print(hashlib.sha1(s.encode()).digest())"
   ]
  },
  {
   "cell_type": "code",
   "execution_count": 3,
   "metadata": {},
   "outputs": [
    {
     "name": "stdout",
     "output_type": "stream",
     "text": [
      "b'm\\xf1:\\xd8=\\xb9<@Uov2TF\\x84\\t'\n"
     ]
    }
   ],
   "source": [
    "#Salting\n",
    "print(hashlib.md5((s+'hello').encode()).digest())"
   ]
  },
  {
   "cell_type": "code",
   "execution_count": 4,
   "metadata": {},
   "outputs": [
    {
     "name": "stdout",
     "output_type": "stream",
     "text": [
      "b'\\xd4\\xe3s\\x0e\\x8c\\xba!O\\x85\\xcd\\xda\\xe5\\xf93\\x1dt'\n",
      "b'\\xd4\\xe3s\\x0e\\x8c\\xba!O\\x85\\xcd\\xda\\xe5\\xf93\\x1dt'\n",
      "b'\\xd4\\xe3s\\x0e\\x8c\\xba!O\\x85\\xcd\\xda\\xe5\\xf93\\x1dt'\n",
      "b'\\xd4\\xe3s\\x0e\\x8c\\xba!O\\x85\\xcd\\xda\\xe5\\xf93\\x1dt'\n",
      "b'\\xd4\\xe3s\\x0e\\x8c\\xba!O\\x85\\xcd\\xda\\xe5\\xf93\\x1dt'\n"
     ]
    }
   ],
   "source": [
    "#iterations of md5 hashlib\n",
    "i=5\n",
    "while(i):\n",
    "    print(hashlib.md5(s.encode()).digest())\n",
    "    i-=1"
   ]
  }
 ],
 "metadata": {
  "kernelspec": {
   "display_name": "Python 3",
   "language": "python",
   "name": "python3"
  },
  "language_info": {
   "codemirror_mode": {
    "name": "ipython",
    "version": 3
   },
   "file_extension": ".py",
   "mimetype": "text/x-python",
   "name": "python",
   "nbconvert_exporter": "python",
   "pygments_lexer": "ipython3",
   "version": "3.8.5"
  }
 },
 "nbformat": 4,
 "nbformat_minor": 4
}
